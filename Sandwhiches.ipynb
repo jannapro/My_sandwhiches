{
 "cells": [
  {
   "cell_type": "code",
   "execution_count": null,
   "id": "9078702d",
   "metadata": {},
   "outputs": [
    {
     "name": "stdout",
     "output_type": "stream",
     "text": [
      "Hi sir/mam what kind of sandwhich's would you like \n",
      " Chicken \n",
      " Cheese \n",
      " Bacon \n",
      " Veggie \n",
      " Vegan  sandwhich: CHICKEN\n"
     ]
    }
   ],
   "source": [
    "order = input(\"Hi sir/mam what kind of sandwhich's would you like \\n Chicken \\n Cheese \\n Bacon \\n Veggie \\n Vegan  sandwhich: \")\n",
    "if order.lower() == \"chicken\":\n",
    "    b = int(input(\"how many Chicken sandwhiches would you like \\n 1 \\n 2 \\n 3 \\n 5 \\n 10:  \"))\n",
    "    if b == 1:\n",
    "        print(\"You bought \",b,order,\"Sandwhiche's\")\n",
    "    elif b == 2:\n",
    "        print(\"You bought \",b,order,\"Sandwhiche's\")\n",
    "    elif b == 3:\n",
    "        print(\"You bought \",b,order,\"Sandwhiche's\")\n",
    "    elif b == 5:\n",
    "        print(\"You bought \",b,order,\"Sandwhiche's\")\n",
    "    elif b == 10:\n",
    "        print(\"You bought \",b,order,\"Sandwhiche's\")\n",
    "    else:\n",
    "        print(\"Sorry we couldn't identify\")\n",
    "elif order == \"Cheese\":\n",
    "    c= int(input(\"how many Cheese sandwhiches would you like \\n 1 \\n 2 \\n 3 \\n 5 \\n 10:  \"))\n",
    "    if c == 1:\n",
    "        print(\"You bought \",c,order,\"Sandwhiche\")\n",
    "    elif c == 2:\n",
    "        print(\"You bought \",c,order,\"Sandwhiche\")\n",
    "    elif c == 3:\n",
    "        print(\"You bought \",c,order,\"Sandwhiche\")\n",
    "    elif c == 5:\n",
    "        print(\"You bought \",c,order,\"Sandwhiche\")\n",
    "    elif c == 10:\n",
    "        print(\"You bought \",c,order,\"Sandwhiche\")\n",
    "        \n",
    "    else:\n",
    "        print(\"Sorry we couldn't identify\")\n",
    "elif order == \"Bacon\":\n",
    "    d = int(input(\"how many Chicken sandwhiches would you like \\n 1 \\n 2 \\n 3 \\n 5 \\n 10:  \"))\n",
    "    if d == 1:\n",
    "        print(\"You bought \",d,order,\"Sandwhiche\")\n",
    "    elif d == 2:\n",
    "        print(\"You bought \",d,order,\"Sandwhiche\")\n",
    "    elif d == 3:\n",
    "        print(\"You bought \",d,order,\"Sandwhiche\")\n",
    "    elif d == 5:\n",
    "        print(\"You bought \",d,order,\"Sandwhiche\")\n",
    "    elif d == 10:\n",
    "        print(\"You bought \",d,order,\"Sandwhiche\")\n",
    "    else:\n",
    "        print(\"Sorry we couldn't identify\")\n",
    "elif order == \"Veggie\":\n",
    "    e = int(input(\"how many Chicken sandwhiches would you like \\n 1 \\n 2 \\n 3 \\n 5 \\n 10: \"))\n",
    "    if e == 1:\n",
    "        print(\"You bought \",e,order,\"Sandwhiche\")\n",
    "    elif e == 2:\n",
    "        print(\"You bought \",e,order,\"Sandwhiche\")\n",
    "    elif e == 3:\n",
    "        print(\"You bought \",e,order,\"Sandwhiche\")\n",
    "    elif e == 5:\n",
    "        print(\"You bought \",e,order,\"Sandwhiche\")\n",
    "    elif e == 10:\n",
    "        print(\"You bought \",e,order,\"Sandwhiche\")\n",
    "elif order == \"Vegan\":\n",
    "    f = int(input(\"how many Chicken sandwhiches would you like \\n 1 \\n 2 \\n 3 \\n 5 \\n 10: \"))\n",
    "    if f == 1:\n",
    "        print(\"You bought \",f,order,\"Sandwhiche\")\n",
    "    elif f == 2:\n",
    "        print(\"You bought \",f,order,\"Sandwhiche\")\n",
    "    elif f == 3:\n",
    "        print(\"You bought \",f,order,\"Sandwhiche\")\n",
    "    elif f == 5:\n",
    "        print(\"You bought \",f,order,\"Sandwhiche\")\n",
    "    elif f == 10:\n",
    "        print(\"You bought \",f,order,\"Sandwhiche\")\n",
    "    else:\n",
    "        print(\"Sorry we couldn't identify\")\n",
    "else:\n",
    "    print(\"Sorry we couldn't identify\")\n",
    "        "
   ]
  },
  {
   "cell_type": "code",
   "execution_count": null,
   "id": "4ea8a188",
   "metadata": {},
   "outputs": [],
   "source": []
  }
 ],
 "metadata": {
  "kernelspec": {
   "display_name": "Python 3 (ipykernel)",
   "language": "python",
   "name": "python3"
  },
  "language_info": {
   "codemirror_mode": {
    "name": "ipython",
    "version": 3
   },
   "file_extension": ".py",
   "mimetype": "text/x-python",
   "name": "python",
   "nbconvert_exporter": "python",
   "pygments_lexer": "ipython3",
   "version": "3.11.5"
  }
 },
 "nbformat": 4,
 "nbformat_minor": 5
}
